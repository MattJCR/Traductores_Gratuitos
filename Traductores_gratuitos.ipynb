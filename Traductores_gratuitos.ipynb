{
  "nbformat": 4,
  "nbformat_minor": 0,
  "metadata": {
    "colab": {
      "provenance": [],
      "authorship_tag": "ABX9TyNl43YLiA5h2EqZYN6IIk9V",
      "include_colab_link": true
    },
    "kernelspec": {
      "name": "python3",
      "display_name": "Python 3"
    },
    "language_info": {
      "name": "python"
    },
    "accelerator": "GPU",
    "gpuClass": "standard"
  },
  "cells": [
    {
      "cell_type": "markdown",
      "metadata": {
        "id": "view-in-github",
        "colab_type": "text"
      },
      "source": [
        "<a href=\"https://colab.research.google.com/github/MattJCR/Traductores_Gratuitos/blob/master/Traductores_gratuitos.ipynb\" target=\"_parent\"><img src=\"https://colab.research.google.com/assets/colab-badge.svg\" alt=\"Open In Colab\"/></a>"
      ]
    },
    {
      "cell_type": "code",
      "source": [
        "!pip uninstall -y sentencepiece\n",
        "!pip install sentencepiece transformers\n",
        "!pip install mtranslate\n",
        "!pip install translate\n",
        "from IPython.display import clear_output\n",
        "import time\n",
        "clear_output()"
      ],
      "metadata": {
        "id": "hcdx0bFu0y7j"
      },
      "execution_count": 1,
      "outputs": []
    },
    {
      "cell_type": "code",
      "source": [
        "text_examples = [\n",
        "    'The quick brown fox jumps over the lazy dog.',\n",
        "    'Yesterday was a beautiful day, but today it\\'s raining.',\n",
        "    'My favorite color is blue, what\\'s yours?',\n",
        "    'The world is a book, and those who do not travel read only a page.',\n",
        "    'I\\'m allergic to peanuts and seafood, so I have to be careful when I eat out.',\n",
        "    'My sister is studying medicine and wants to become a doctor.',\n",
        "    'My favorite movie is The Shawshank Redemption, what\\'s yours?',\n",
        "    'I love spending time outdoors and going for long hikes in the mountains.',\n",
        "    'She plays the piano beautifully and loves to perform in front of an audience.',\n",
        "    'I\\'m thinking of going on a trip to Europe next summer, any recommendations?']\n",
        "\n",
        "tweets = [ \"Just had the best pizza ever! 🍕🤤 #foodie #yum\",    \n",
        "          \"Can't believe it's already Monday tomorrow 😩 #weekendover #backtowork\",    \n",
        "          \"Excited to announce that I'll be speaking at the conference next month! 🎙️👨‍💼 #speaker #conference\",    \n",
        "          \"Loving the new album from my favorite band! 🎶🤘 #musiclover #newmusic\",    \n",
        "          \"Hate it when my phone dies halfway through the day 📱😒 #firstworldproblems #techissues\",    \n",
        "          \"Feeling grateful for my friends and family on this beautiful day ❤️🌞 #blessed #grateful\"]\n"
      ],
      "metadata": {
        "id": "p5r3QaIY3R00"
      },
      "execution_count": 2,
      "outputs": []
    },
    {
      "cell_type": "markdown",
      "source": [
        "# Helsinki-NLP opus-mt-en-es"
      ],
      "metadata": {
        "id": "suJfcIkZ3_tS"
      }
    },
    {
      "cell_type": "code",
      "source": [
        "from transformers import pipeline\n",
        "# Selecciona el modelo de traducción y los idiomas de entrada y salida\n",
        "# https://huggingface.co/Helsinki-NLP/opus-mt-en-es\n",
        "translator = pipeline(\"translation_en_to_es\", model=\"Helsinki-NLP/opus-mt-en-es\",device=0)\n",
        "clear_output()"
      ],
      "metadata": {
        "id": "MEA6gfyJ3uKw"
      },
      "execution_count": 3,
      "outputs": []
    },
    {
      "cell_type": "code",
      "source": [
        "for text_to_translate in text_examples:\n",
        "  start_time = time.time()\n",
        "  translated_text = translator(text_to_translate)\n",
        "  end_time = time.time()\n",
        "  \n",
        "  # Imprime el resultado\n",
        "  print(translated_text[0]['translation_text'],f\" -> {end_time - start_time} seconds\")\n"
      ],
      "metadata": {
        "colab": {
          "base_uri": "https://localhost:8080/"
        },
        "id": "fK90FrM-0mit",
        "outputId": "71175b15-05fb-4bec-fbb1-0741a4cdb67e"
      },
      "execution_count": 4,
      "outputs": [
        {
          "output_type": "stream",
          "name": "stdout",
          "text": [
            "El zorro marrón salta sobre el perro perezoso.  -> 3.20953631401062 seconds\n",
            "Ayer fue un día hermoso, pero hoy está lloviendo.  -> 0.16067743301391602 seconds\n",
            "Mi color favorito es el azul, ¿cuál es el tuyo?  -> 0.1633138656616211 seconds\n",
            "El mundo es un libro, y los que no viajan leen sólo una página.  -> 0.20646095275878906 seconds\n",
            "Soy alérgico a los cacahuetes y mariscos, así que tengo que tener cuidado cuando como fuera.  -> 0.261028528213501 seconds\n",
            "Mi hermana está estudiando medicina y quiere ser doctora.  -> 0.16541838645935059 seconds\n",
            "Mi película favorita es La Redención Shawshank, ¿cuál es la tuya?  -> 0.3803889751434326 seconds\n",
            "Me encanta pasar tiempo al aire libre y hacer largas caminatas por las montañas.  -> 0.3934810161590576 seconds\n",
            "Toca el piano maravillosamente y le encanta actuar frente a un público.  -> 0.3153102397918701 seconds\n",
            "Estoy pensando en ir de viaje a Europa el próximo verano, ¿alguna recomendación?  -> 0.36527371406555176 seconds\n"
          ]
        }
      ]
    },
    {
      "cell_type": "code",
      "source": [
        "for text_to_translate in tweets:\n",
        "  start_time = time.time()\n",
        "  translated_text = translator(text_to_translate)\n",
        "  end_time = time.time()\n",
        "  # Imprime el resultado\n",
        "  print(translated_text[0]['translation_text'],f\" -> {end_time - start_time} seconds\")"
      ],
      "metadata": {
        "colab": {
          "base_uri": "https://localhost:8080/"
        },
        "id": "yJWS4lbC2YPs",
        "outputId": "9c0d4b3d-48c0-4651-c297-b4ac34eb84ef"
      },
      "execution_count": 5,
      "outputs": [
        {
          "output_type": "stream",
          "name": "stderr",
          "text": [
            "/usr/local/lib/python3.9/dist-packages/transformers/pipelines/base.py:1070: UserWarning: You seem to be using the pipelines sequentially on GPU. In order to maximize efficiency please use a dataset\n",
            "  warnings.warn(\n"
          ]
        },
        {
          "output_type": "stream",
          "name": "stdout",
          "text": [
            "¡Acabo de tener la mejor pizza de la historia! #foodie #yum  -> 0.3427252769470215 seconds\n",
            "No puedo creer que sea el lunes de mañana #weekendover #backtowork  -> 0.36942434310913086 seconds\n",
            "Emocionado de anunciar que voy a hablar en la conferencia el próximo mes!  #speaker #conference  -> 0.44490647315979004 seconds\n",
            "¡Me encanta el nuevo álbum de mi banda favorita! #musiclover #newmusic  -> 0.28984546661376953 seconds\n",
            "Odio cuando mi teléfono muere a la mitad del día #Problemas del primer mundo #Techissues  -> 0.3747115135192871 seconds\n",
            "Sentirse agradecido por mis amigos y familiares en este hermoso día  -> 0.40666961669921875 seconds\n"
          ]
        }
      ]
    },
    {
      "cell_type": "markdown",
      "source": [
        "# Helsinki-NLP opus-mt-tc-big-en-es"
      ],
      "metadata": {
        "id": "zm1AjFW-8lhE"
      }
    },
    {
      "cell_type": "code",
      "source": [
        "from transformers import pipeline\n",
        "# Selecciona el modelo de traducción y los idiomas de entrada y salida\n",
        "# https://huggingface.co/Helsinki-NLP/opus-mt-tc-big-en-es\n",
        "translator = pipeline(\"translation_en_to_es\", model=\"Helsinki-NLP/opus-mt-tc-big-en-es\",device=0)\n",
        "clear_output()"
      ],
      "metadata": {
        "id": "kc6v7UCq8lhJ"
      },
      "execution_count": 6,
      "outputs": []
    },
    {
      "cell_type": "code",
      "source": [
        "for text_to_translate in text_examples:\n",
        "  start_time = time.time()\n",
        "  translated_text = translator(text_to_translate)\n",
        "  end_time = time.time()\n",
        "  \n",
        "  # Imprime el resultado\n",
        "  print(translated_text[0]['translation_text'],f\" -> {end_time - start_time} seconds\")\n"
      ],
      "metadata": {
        "colab": {
          "base_uri": "https://localhost:8080/"
        },
        "outputId": "820f7794-56ee-46ff-b45f-0475dc223981",
        "id": "yl1VhTCG8lhK"
      },
      "execution_count": 7,
      "outputs": [
        {
          "output_type": "stream",
          "name": "stdout",
          "text": [
            "El zorro marrón rápido salta sobre el perro perezoso.  -> 0.13296771049499512 seconds\n",
            "Ayer fue un día hermoso, pero hoy está lloviendo.  -> 0.13291311264038086 seconds\n",
            "Mi color favorito es el azul, ¿cuál es el tuyo?  -> 0.14012646675109863 seconds\n",
            "El mundo es un libro, y los que no viajan leen sólo una página.  -> 0.17177700996398926 seconds\n",
            "Soy alérgico a los cacahuetes y los mariscos, así que tengo que tener cuidado cuando coma fuera.  -> 0.1881108283996582 seconds\n",
            "Mi hermana está estudiando medicina y quiere ser médico.  -> 0.11107754707336426 seconds\n",
            "Mi película favorita es The Shawshank Redemption, ¿cuál es la tuya?  -> 0.17486190795898438 seconds\n",
            "Me encanta pasar tiempo al aire libre y hacer largas caminatas en las montañas.  -> 0.16188716888427734 seconds\n",
            "Toca el piano maravillosamente y le encanta actuar frente a una audiencia.  -> 0.15252971649169922 seconds\n",
            "Estoy pensando en irme de viaje a Europa el próximo verano, ¿alguna recomendación?  -> 0.17888975143432617 seconds\n"
          ]
        }
      ]
    },
    {
      "cell_type": "code",
      "source": [
        "for text_to_translate in tweets:\n",
        "  start_time = time.time()\n",
        "  translated_text = translator(text_to_translate)\n",
        "  end_time = time.time()\n",
        "  # Imprime el resultado\n",
        "  print(translated_text[0]['translation_text'],f\" -> {end_time - start_time} seconds\")"
      ],
      "metadata": {
        "colab": {
          "base_uri": "https://localhost:8080/"
        },
        "outputId": "363474dd-671c-4d31-aa48-b333221be5bf",
        "id": "qoZB9hTm8lhK"
      },
      "execution_count": 8,
      "outputs": [
        {
          "output_type": "stream",
          "name": "stdout",
          "text": [
            "La mejor pizza de todos los tiempos! foodie yum  -> 0.17197775840759277 seconds\n",
            "No puedo creer que ya sea lunes mañana  weekendover backtowork  -> 0.19269537925720215 seconds\n",
            "¡Emocionado de anunciar que hablaré en la conferencia el próximo mes!  speaker conference  -> 0.29663896560668945 seconds\n",
            "¡Me encanta el nuevo álbum de mi banda favorita! musiclover newmusic  -> 0.2999594211578369 seconds\n",
            "Odia cuando mi teléfono muere a mitad del día  firstworldproblemas techissues  -> 0.3187692165374756 seconds\n",
            "Sentirse agradecido por mis amigos y familiares en este hermoso día  -> 0.2899904251098633 seconds\n"
          ]
        }
      ]
    },
    {
      "cell_type": "markdown",
      "source": [
        "# mtranslate"
      ],
      "metadata": {
        "id": "AJdNlEEL4ChZ"
      }
    },
    {
      "cell_type": "code",
      "source": [
        "from mtranslate import translate\n",
        "\n",
        "target_language = 'es'\n",
        "for text_to_translate in text_examples:\n",
        "  start_time = time.time()\n",
        "  translated_text = translate(text_to_translate, target_language)\n",
        "  end_time = time.time()\n",
        "  # Imprime el resultado\n",
        "  print(translated_text,f\" -> {end_time - start_time} seconds\")"
      ],
      "metadata": {
        "colab": {
          "base_uri": "https://localhost:8080/"
        },
        "id": "J1JXcaWb2wnI",
        "outputId": "966b01cc-6c74-4027-a10c-48c7b97e1a22"
      },
      "execution_count": 9,
      "outputs": [
        {
          "output_type": "stream",
          "name": "stdout",
          "text": [
            "El veloz zorro marrón salta sobre el perro perezoso.  -> 0.26722002029418945 seconds\n",
            "Ayer fue un hermoso día, pero hoy está lloviendo.  -> 0.1911182403564453 seconds\n",
            "Mi color favorito es el azul, ¿cuál es el tuyo?  -> 0.18534636497497559 seconds\n",
            "El mundo es un libro, y los que no viajan leen solo una página.  -> 0.16772818565368652 seconds\n",
            "Soy alérgico a los cacahuetes y los mariscos, así que tengo que tener cuidado cuando como fuera.  -> 0.1644139289855957 seconds\n",
            "Mi hermana está estudiando medicina y quiere ser doctora.  -> 0.18400073051452637 seconds\n",
            "Mi película favorita es The Shawshank Redemption, ¿cuál es la tuya?  -> 0.17359018325805664 seconds\n",
            "Me encanta pasar tiempo al aire libre y hacer largas caminatas en las montañas.  -> 0.2137155532836914 seconds\n",
            "Toca el piano maravillosamente y le encanta tocar frente a una audiencia.  -> 0.17600631713867188 seconds\n",
            "Estoy pensando en hacer un viaje a Europa el próximo verano, ¿alguna recomendación?  -> 0.1779942512512207 seconds\n"
          ]
        }
      ]
    },
    {
      "cell_type": "code",
      "source": [
        "target_language = 'es'\n",
        "for text_to_translate in tweets:\n",
        "  start_time = time.time()\n",
        "  translated_text = translate(text_to_translate, target_language)\n",
        "  end_time = time.time()\n",
        "  # Imprime el resultado\n",
        "  print(translated_text,f\" -> {end_time - start_time} seconds\")"
      ],
      "metadata": {
        "colab": {
          "base_uri": "https://localhost:8080/"
        },
        "id": "5PPk6SXn3efq",
        "outputId": "af252eeb-fb42-4400-f893-f29ca6f93a47"
      },
      "execution_count": 10,
      "outputs": [
        {
          "output_type": "stream",
          "name": "stdout",
          "text": [
            "¡Acabo de tener la mejor pizza! 🍕🤤 #foodie #yum  -> 0.21759867668151855 seconds\n",
            "No puedo creer que mañana ya sea lunes 😩 #weekendover #backtowork  -> 0.221390962600708 seconds\n",
            "¡Emocionado de anunciar que hablaré en la conferencia el próximo mes! 🎙️👨‍💼 #speaker #conference  -> 0.16492462158203125 seconds\n",
            "Me encanta el nuevo álbum de mi banda favorita! 🎶🤘 #musiclover #nuevamúsica  -> 0.15883946418762207 seconds\n",
            "Odio cuando mi teléfono muere a la mitad del día 📱😒 #firstworldproblems #techissues  -> 0.15598416328430176 seconds\n",
            "Me siento agradecido por mis amigos y familiares en este hermoso día ❤️🌞 #bendecido #agradecido  -> 0.15259337425231934 seconds\n"
          ]
        }
      ]
    },
    {
      "cell_type": "markdown",
      "source": [
        "# translate"
      ],
      "metadata": {
        "id": "S3nn2LOk4E-8"
      }
    },
    {
      "cell_type": "code",
      "source": [
        "from translate import Translator\n",
        "\n",
        "target_language = 'es'\n",
        "translator = Translator(to_lang=target_language)\n",
        "\n",
        "for text_to_translate in text_examples:\n",
        "  start_time = time.time()\n",
        "  translated_text = translator.translate(text_to_translate)\n",
        "  end_time = time.time()\n",
        "  # Imprime el resultado\n",
        "  print(translated_text,f\" -> {end_time - start_time} seconds\")"
      ],
      "metadata": {
        "colab": {
          "base_uri": "https://localhost:8080/"
        },
        "id": "AtyWb8Rl26xV",
        "outputId": "cb64456c-1b1a-47bf-e463-f09398d85edc"
      },
      "execution_count": 11,
      "outputs": [
        {
          "output_type": "stream",
          "name": "stdout",
          "text": [
            "El zorro rápido marrón salta por encima del perro perezoso.  -> 0.3480224609375 seconds\n",
            "Ayer fue un día hermoso, pero hoy está lloviendo.  -> 0.42383718490600586 seconds\n",
            "Mi color favorito es el azul, ¿cuál es el tuyo?  -> 0.3321850299835205 seconds\n",
            "El mundo es un libro, y aquellos que no viajan leen sólo una página.  -> 0.37168002128601074 seconds\n",
            "Soy alérgico a los cacahuetes y mariscos, así que tengo que tener cuidado cuando como fuera.  -> 0.37006640434265137 seconds\n",
            "Mi hermana está estudiando medicina y quiere ser médico.  -> 0.4787018299102783 seconds\n",
            "Mi película favorita es The Shawshank Redemption, ¿cuál es la tuya?  -> 0.38319897651672363 seconds\n",
            "Me encanta pasar tiempo al aire libre y hacer largas caminatas en las montañas.  -> 0.3664059638977051 seconds\n",
            "Ella toca el piano maravillosamente y le encanta actuar frente a una audiencia.  -> 0.49594640731811523 seconds\n",
            "Estoy pensando en ir de viaje a Europa el próximo verano, ¿alguna recomendación?  -> 0.37878847122192383 seconds\n"
          ]
        }
      ]
    },
    {
      "cell_type": "code",
      "source": [
        "for text_to_translate in tweets:\n",
        "  start_time = time.time()\n",
        "  translated_text = translator.translate(text_to_translate)\n",
        "  end_time = time.time()\n",
        "  # Imprime el resultado\n",
        "  print(translated_text,f\" -> {end_time - start_time} seconds\")"
      ],
      "metadata": {
        "colab": {
          "base_uri": "https://localhost:8080/"
        },
        "id": "BeVVsg_o3606",
        "outputId": "eba185c8-19a7-46f8-b493-9b1ad3374b28"
      },
      "execution_count": 12,
      "outputs": [
        {
          "output_type": "stream",
          "name": "stdout",
          "text": [
            "Acabo de tener la mejor pizza de todas! 🍕🤤 #foodie #yum  -> 0.39699769020080566 seconds\n",
            "No puedo creer que ya sea lunes mañana 😩 #weekendover #backtowork  -> 0.3181021213531494 seconds\n",
            "¡Emocionado de anunciar que hablaré en la conferencia el próximo mes! 🎙️👨 💼 #speaker #conference  -> 0.44230103492736816 seconds\n",
            "¡Me encanta el nuevo álbum de mi banda favorita! 🎶🤘 #musiclover #newmusic  -> 0.2840762138366699 seconds\n",
            "Odio cuando mi teléfono muere a mitad del día 📱😒 #firstworldproblems #techissues  -> 0.3074209690093994 seconds\n",
            "Me siento agradecido por mis amigos y familiares en este hermoso día ❤️🌞 #blessed #grateful  -> 0.3166806697845459 seconds\n"
          ]
        }
      ]
    }
  ]
}